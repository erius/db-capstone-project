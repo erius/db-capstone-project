{
 "cells": [
  {
   "cell_type": "code",
   "execution_count": 6,
   "id": "4404c5c6-52e5-4b8e-806b-588d99980d8b",
   "metadata": {},
   "outputs": [
    {
     "name": "stdout",
     "output_type": "stream",
     "text": [
      "Requirement already satisfied: mysql-connector-python in c:\\users\\dell 5300\\appdata\\roaming\\python\\python311\\site-packages (8.1.0)\n",
      "Requirement already satisfied: protobuf<=4.21.12,>=4.21.1 in c:\\users\\dell 5300\\appdata\\roaming\\python\\python311\\site-packages (from mysql-connector-python) (4.21.12)\n"
     ]
    },
    {
     "name": "stderr",
     "output_type": "stream",
     "text": [
      "\n",
      "[notice] A new release of pip is available: 23.2.1 -> 23.3.1\n",
      "[notice] To update, run: python.exe -m pip install --upgrade pip\n"
     ]
    }
   ],
   "source": [
    "!pip install mysql-connector-python"
   ]
  },
  {
   "cell_type": "code",
   "execution_count": 2,
   "id": "b48d11de-a44a-489e-8457-5f98720bc1f6",
   "metadata": {},
   "outputs": [],
   "source": [
    "import mysql.connector as connector"
   ]
  },
  {
   "cell_type": "code",
   "execution_count": null,
   "id": "f17d40a7-9234-4f5e-9314-d50f903c03fa",
   "metadata": {},
   "outputs": [],
   "source": [
    "connection = connector.connect(user =\"root\", password= \"\")"
   ]
  },
  {
   "cell_type": "code",
   "execution_count": null,
   "id": "c03057ce-7714-4df1-b89e-45876e82d67b",
   "metadata": {},
   "outputs": [],
   "source": [
    "connection = connector.connect(user =\"root\", password= \"\", db=\"littlelemondb\")"
   ]
  },
  {
   "cell_type": "code",
   "execution_count": null,
   "id": "125ec3aa-63a6-4996-aacb-dabadf22507e",
   "metadata": {},
   "outputs": [],
   "source": [
    "cursor = connection.cursor()\n",
    "show_tables_query = \"SHOW tables\" \n",
    "cursor.execute(show_tables_query)"
   ]
  },
  {
   "cell_type": "code",
   "execution_count": null,
   "id": "3e3fbe42-9613-4b0a-87c1-f6daea391d99",
   "metadata": {},
   "outputs": [],
   "source": [
    "results = cursor.fetchall()\n",
    "for result in results:\n",
    "        print(result)"
   ]
  },
  {
   "cell_type": "code",
   "execution_count": null,
   "id": "64d4c28c-b233-49f3-802e-5ef3a3e882ab",
   "metadata": {},
   "outputs": [],
   "source": [
    "customer_orders = \"\"\"select customers.CustomerID,concat(customers.FirstName,' ',customers.LastName) as FullName, customers.Addres\n",
    "bookings.BookingDate,orders.OrderID,orders.TotalCost\n",
    "from customers\n",
    "inner join bookings on customers.CustomerID =bookings.CustomerID\n",
    "inner join orders on bookings.BookingID=orders.BookingID\n",
    "where orders.TotalCost > 60 \"\"\"\"\n",
    "\n",
    "cursor.execute(customer_orders)"
   ]
  }
 ],
 "metadata": {
  "kernelspec": {
   "display_name": "Python 3 (ipykernel)",
   "language": "python",
   "name": "python3"
  },
  "language_info": {
   "codemirror_mode": {
    "name": "ipython",
    "version": 3
   },
   "file_extension": ".py",
   "mimetype": "text/x-python",
   "name": "python",
   "nbconvert_exporter": "python",
   "pygments_lexer": "ipython3",
   "version": "3.11.4"
  }
 },
 "nbformat": 4,
 "nbformat_minor": 5
}
